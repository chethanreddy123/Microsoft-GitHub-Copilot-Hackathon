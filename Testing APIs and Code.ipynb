{
 "cells": [
  {
   "cell_type": "code",
   "execution_count": null,
   "id": "7a617882",
   "metadata": {},
   "outputs": [],
   "source": [
    "import requests\n",
    "import json\n",
    "import sys\n",
    "\n",
    "def get_weather(city):\n",
    "    api_key = \"17039d6beb4b43a0294f19509cc88fd7\"\n",
    "    base_url = \"http://api.openweathermap.org/data/2.5/weather\"\n",
    "\n",
    "    params = {\n",
    "        \"q\": city,\n",
    "        \"appid\": api_key,\n",
    "        \"units\": \"metric\"\n",
    "    }\n",
    "\n",
    "    response = requests.get(base_url, params=params)\n",
    "    data = response.json()\n",
    "\n",
    "    if data[\"cod\"] == 200:\n",
    "        weather = data[\"weather\"][0][\"description\"]\n",
    "        temperature = data[\"main\"][\"temp\"]\n",
    "        humidity = data[\"main\"][\"humidity\"]\n",
    "        wind_speed = data[\"wind\"][\"speed\"]\n",
    "\n",
    "        print(f\"Weather forecast for {city}:\")\n",
    "        print(f\"Weather: {weather}\")\n",
    "        print(f\"Temperature: {temperature}°C\")\n",
    "        print(f\"Humidity: {humidity}%\")\n",
    "        print(f\"Wind Speed: {wind_speed} m/s\")\n",
    "    else:\n",
    "        print(f\"Error: {data['message']}\")\n",
    "\n",
    "if __name__ == \"__main__\":\n",
    "    if len(sys.argv) < 2:\n",
    "        print(\"Please provide a city name as an argument.\")\n",
    "        sys.exit(1)\n",
    "\n",
    "    city_name = \" \".join(sys.argv[1:])\n",
    "    get_weather(city_name)\n"
   ]
  },
  {
   "cell_type": "code",
   "execution_count": 18,
   "id": "9103aa7c",
   "metadata": {},
   "outputs": [],
   "source": [
    "import pycountry\n",
    "\n",
    "def autocorrect_city_name(city_name):\n",
    "    corrected_city = None\n",
    "    city_name_lower = city_name.lower()\n",
    "\n",
    "    for country in pycountry.countries:\n",
    "        country_name_lower = country.name.lower()\n",
    "\n",
    "        if city_name_lower in country_name_lower:\n",
    "            corrected_city = country.name\n",
    "            break\n",
    "\n",
    "    return corrected_city\n"
   ]
  },
  {
   "cell_type": "code",
   "execution_count": 19,
   "id": "a9b5e73a",
   "metadata": {},
   "outputs": [
    {
     "name": "stdout",
     "output_type": "stream",
     "text": [
      "Could not autocorrect 'New Yrk'\n"
     ]
    }
   ],
   "source": [
    "city_name = \"New Yrk\"\n",
    "corrected_city = autocorrect_city_name(city_name)\n",
    "\n",
    "if corrected_city is None:\n",
    "    print(f\"Could not autocorrect '{city_name}'\")\n",
    "else:\n",
    "    print(f\"Autocorrected city: {corrected_city}\")\n"
   ]
  },
  {
   "cell_type": "code",
   "execution_count": null,
   "id": "d611fa78",
   "metadata": {},
   "outputs": [],
   "source": []
  }
 ],
 "metadata": {
  "kernelspec": {
   "display_name": "tensorflow",
   "language": "python",
   "name": "python3"
  },
  "language_info": {
   "codemirror_mode": {
    "name": "ipython",
    "version": 3
   },
   "file_extension": ".py",
   "mimetype": "text/x-python",
   "name": "python",
   "nbconvert_exporter": "python",
   "pygments_lexer": "ipython3",
   "version": "3.10.9"
  }
 },
 "nbformat": 4,
 "nbformat_minor": 5
}
